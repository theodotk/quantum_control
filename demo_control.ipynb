{
 "cells": [
  {
   "cell_type": "code",
   "execution_count": 1,
   "id": "5b70108a",
   "metadata": {},
   "outputs": [],
   "source": [
    "%load_ext autoreload\n",
    "%autoreload 2\n",
    "%matplotlib inline\n",
    "\n",
    "from stable_baselines3 import SAC\n",
    "\n",
    "\n",
    "from utils import *"
   ]
  },
  {
   "cell_type": "markdown",
   "id": "091963ce",
   "metadata": {},
   "source": [
    "# Two-level system excitation\n",
    "\n",
    "This project is an easy example of quantum control with reinforcement learning. It contains:\n",
    "+ the visualisation of the result is in [this notebook](?),\n",
    "+ a trained model,\n",
    "+ the code for training is in [training.py](??) and can be launched as `python3 training.py --n-trials NUM_OF_OPTIMIZATION_TRIALS --name NAME_OF_THE_SAVED_MODEL`\n",
    "\n",
    "## The problem from physical perspective\n",
    "\n",
    "TLDR: it's like an inverted pendulum, but fancy\n",
    "\n",
    "### The state\n",
    "\n",
    "We describe a quantum system that has two energy eigenstates:\n",
    "+ ground state (with low energy): $|g\\rangle$\n",
    "+ excited state (with high energy): $|e\\rangle$\n",
    "\n",
    "A quantum system can be in any combination of the eigenstates, for example:\n",
    "\n",
    "$|p\\rangle = \\sqrt{1-P_e}\\, |g\\rangle + \\alpha \\sqrt{P_e}\\, |e\\rangle$.\n",
    "\n",
    "Here $\\alpha$ is a complex number satisfying $|\\alpha| = 1$, and $P_e$ is a real number between 0 and 1: the probability to find the system in $|e\\rangle$. It is also called the excited state population.\n",
    "\n",
    "### Bloch sphere\n",
    "\n",
    "Let's imagine, what it looks like. Parameter $P_e$ quantifies the amount of $|e\\rangle$ in the current state. Thus it represents an axis moving along which one travels between $|e\\rangle$ and $|g\\rangle$.\n",
    "\n",
    "If $P_e$ is equal to 1 or 0, we are in one of the eigenstates. The parameter $\\alpha$ does not matter in this case, because in quantum states we don't care about the global phase [^ phase].\n",
    "\n",
    "For other values of $P_e$ the phase matters, and is actually the core of all the fun stuff in quantum pysics. But let's recall that it is a complex number of module 1. All such numbers form a circle of radius 1, with the coorditates $x = Re({\\alpha})$ and $y = Im({\\alpha})$. And thus $\\alpha \\sqrt{P_e}$ is a circle of radius $\\sqrt{P_e}$.\n",
    "\n",
    "It means we can map any state of type $|p\\rangle$ onto the surface of a shpere, where each point has coordinates:\n",
    "- $x = 2\\sqrt{P_e(1-P_e)} Re({\\alpha})$\n",
    "- $y = 2\\sqrt{P_e(1-P_e)} Im({\\alpha})$\n",
    "- $z = 2P_e - 1$\n",
    "\n",
    "That is the case only for the pure states. The state with time loses its purity due to incoherent processes and the $(x,y,z)$ move inside the sphere.\n",
    "\n",
    "Thus any dynamics of a two level system can be represented as a movement on the surface and inside a raduis 1 sphere. Moving along the Z axis corresponds to change in the population of the excited and ground states, while the movement in a plane $z=$const corresponds to the change of the phase.\n",
    "\n",
    "### Moving between the states\n",
    "\n",
    "Putting it simple, within this problem, there are two ways for the system to move between the ground and excited states [^ 1]:\n",
    "- Excitatation by an electromagnetic pulse (in following I call it a laser because I'm used to the optical context, but it depends on a system). It works both ways: the system in the ground state will gain some energy and move closer to the excited state, while a system in the excited state will be pushed to emit some energy and will move towards the ground state. On a sphere it can be representd as a rotation around an axis that is situated in the x-y plane, with frequency defined by laser power (and other factors we don't model here like coupling efficiency). \n",
    "- Spontaneous emission: the system emits a photon, thus going down from the excited state to the ground state with the rate $\\gamma$. If we start in the excited state, the trajectory on a sphere will coincide with Z axis.\n",
    "\n",
    "The laser can have a frequency different from the resonance frequency of the TLS, the difference is called detuning $\\delta$. This results in the rotation around the Z axis with frequency $\\delta$.\n",
    "\n",
    "Other incoherent processes result in increase of our unawareness of the stae of the system, this results in dephasing witrh rate $\\gamma^*$.\n",
    "\n",
    "### Quantum control\n",
    "\n",
    "In general it's the field studying the optimal conditions to perform a given quantum operation with maximal fidelity. A usual tool is shaping of the control pulse (providing pulse power and phase during given time). There are different algorithms tailored for this purpose (GRAPE, Krotov, GOAT, CRAB etc), but it's also possible to use reinforcement learning (RL) to solve this problem.\n",
    "\n",
    "The task in our case is:\n",
    "- to put the TLS into the excited state\n",
    "- starting from any pure state\n",
    "- with arbitrary conditions (detuning $\\delta$, spontaneous emission rate $\\gamma$ and dephasing rate $\\gamma^*$)\n",
    "\n",
    "It is a rather straightforward task with an [analytical solution](https://en.wikipedia.org/wiki/Rabi_problem#Two-level_atom), but let's look at the cases and on the variables we need for an RL setting.\n",
    "\n",
    "1. If $\\delta = \\gamma = \\gamma^* = 0$, we just need to drive the system with laser until it reaches the excited state, and then stop. It would require to have one observable ($z$ coordinate) and one action (laser power).\n",
    "1. With non-zero dephasing the state rotates around the Z axis and thus we also need to adjust the phase of the laser as $\\phi = \\delta t$. The phase will be the second action, and we'll need another coordinate in the observables so that the model can calculate $\\delta$.\n",
    "1. If $\\gamma > 0$ the system will head for the ground state from all the states. The model will need to adjust the power, and also if the purpose is to be as close to the excited state for as long as possible, there may appear different strategies to counter the spontaneous emission (like going back and forth to the ground state if there is a particular relation between the variables).\n",
    "\n",
    "\n",
    "[^ phase]: we need the states only for calculation of the observables, that involves taking absolute value. So the global phase will just not be measureable, and thus we don't care.\n",
    "[^ 1]: essentially, both are the same. Tt is interaction with an electromagnetic bath.\n",
    "\n",
    "\n",
    "##  The problem from the ML perspective\n",
    "\n",
    "It looks like a quantum analogue of the common problem of inverting a pendulum: one needs to fix a system in a state with the higher energy in presence of the field pushing it towards the lower energy state.\n",
    "\n",
    "|System|Pendulum|TLS excitation|\n",
    "|-|-|-|\n",
    "|Coordinate|Angle with respect to the upper position|Probability to find the system in an excited state|\n",
    "|Force|gravity ($g$)|Spontaneous emission ($\\gamma$)|\n",
    "|Action|Torque (2nd derivative of coordinate)|Laser excitation (adds to 1st derivative of coordinate)|\n",
    "\n",
    "The difference is that the pendulum has a fixed length, so the gravity can be coutereb by the torque, while a TLS' state is decaying towards ground state no matter what, like a pendulum on a rope can just fall down instead of rotating.\n",
    "\n",
    "To make it a little more interesting, I added the following:\n",
    "- It's a 2d problem: one can also choose the rotation axis\n",
    "- There is a force rotating the TLS state around Z axis (analytically we can easily get rid of it, but then the problem will be simpler)\n",
    "- My goal was to create a model that will adapt to different conditions rather than will be tailored for one set of arameters\n",
    "\n",
    "### Model\n",
    "\n",
    "#### Observables\n",
    "\n",
    "I choose the $x$, $y$, $z$ coordinates, as they give information both on the state position and purity (I could have chosen the two angles and the purity as well). Due to the experiments with different targets, I also introduced two angles between the current and the target state. Different targets was too much for the model to handle, so this will be the next step.\n",
    "\n",
    "#### Actions\n",
    "\n",
    "There are two actions: laser power and phase. In a normal setting the power would be enough, and rotation of the state due to the detuning can be handled analytically, but my goal was making an adaptative model, and it needed an extra parameter.\n",
    "\n",
    "#### Reward\n",
    "\n",
    "In this case there were two strategies:\n",
    "- to place the system in the target state and then to abort the simulation\n",
    "- to try to keep it there or as close as possible\n",
    "\n",
    "I went with the secod one, and thus the reward is a fidelity of the system state being the target state (basically, an analogue of the scalar product between vectors).\n",
    "\n",
    "#### The model\n",
    "\n",
    "I experimented with the pendulum, and it seems that SAC grants the best results in terms of speed and performance. I tried it with optuna optimization on a stationary TLS excitation problem, and than on this one, and I'm rather satisfied by the result. The PPO also gives similar performance, but requires more time to train.\n",
    "\n",
    "Because I want the model to adapt to different parameters, I trained and evaluated models on a set of randomly generated environements.\n",
    "\n",
    "# Next steps\n",
    "\n",
    "- going to any target\n",
    "- state transfer in a three-level system (STIRAP)\n",
    "- entangled state creation"
   ]
  },
  {
   "cell_type": "code",
   "execution_count": 2,
   "id": "1dcf4e9b",
   "metadata": {},
   "outputs": [],
   "source": [
    "# the model seems rather ok\n",
    "model = SAC.load(\"sac_1qb_control_target_rand\")"
   ]
  },
  {
   "cell_type": "code",
   "execution_count": 3,
   "id": "c2e95356",
   "metadata": {
    "scrolled": false
   },
   "outputs": [
    {
     "data": {
      "application/vnd.jupyter.widget-view+json": {
       "model_id": "d82ed2a41dcc4d81be52f552b951b9ce",
       "version_major": 2,
       "version_minor": 0
      },
      "text/plain": [
       "VBox(children=(HBox(children=(VBox(children=(Label(value='Max laser power = 1 in arbitrary $T^{-1}$ units.'), …"
      ]
     },
     "metadata": {},
     "output_type": "display_data"
    },
    {
     "data": {
      "application/vnd.jupyter.widget-view+json": {
       "model_id": "422d85c775554310bdbc9bd375daf6ec",
       "version_major": 2,
       "version_minor": 0
      },
      "text/plain": [
       "Output()"
      ]
     },
     "metadata": {},
     "output_type": "display_data"
    },
    {
     "name": "stdout",
     "output_type": "stream",
     "text": [
      "Simulation with parameters: $\\delta$ = 0.0, $\\gamma$ = 0.0, $\\gamma^*$ = 0.0, max laser power = 1.0, max time steps = 100.\n"
     ]
    },
    {
     "name": "stderr",
     "output_type": "stream",
     "text": [
      "/home/ldap/breznychencko/qml/venv/lib/python3.6/site-packages/gym/logger.py:34: UserWarning: \u001b[33mWARN: Box bound precision lowered by casting to float32\u001b[0m\n",
      "  warnings.warn(colorize(\"%s: %s\" % (\"WARN\", msg % args), \"yellow\"))\n"
     ]
    }
   ],
   "source": [
    "s = Interface(model)\n",
    "s.show()"
   ]
  },
  {
   "cell_type": "code",
   "execution_count": null,
   "id": "1601bbb0",
   "metadata": {},
   "outputs": [],
   "source": []
  }
 ],
 "metadata": {
  "kernelspec": {
   "display_name": "Python 3",
   "language": "python",
   "name": "python3"
  },
  "language_info": {
   "codemirror_mode": {
    "name": "ipython",
    "version": 3
   },
   "file_extension": ".py",
   "mimetype": "text/x-python",
   "name": "python",
   "nbconvert_exporter": "python",
   "pygments_lexer": "ipython3",
   "version": "3.6.9"
  }
 },
 "nbformat": 4,
 "nbformat_minor": 5
}
