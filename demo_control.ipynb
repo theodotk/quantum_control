{
 "cells": [
  {
   "cell_type": "code",
   "execution_count": null,
   "id": "5b70108a",
   "metadata": {
    "scrolled": true
   },
   "outputs": [],
   "source": [
    "%load_ext autoreload\n",
    "%autoreload 2\n",
    "\n",
    "%matplotlib inline\n",
    "from stable_baselines3 import SAC\n",
    "\n",
    "from utils import Interface, DetModel"
   ]
  },
  {
   "cell_type": "code",
   "execution_count": null,
   "id": "1dcf4e9b",
   "metadata": {},
   "outputs": [],
   "source": [
    "try:\n",
    "    model = SAC.load(\"sac_1qb_control_target_rand\")\n",
    "    print('Loaded the SAC model')\n",
    "except AttributeError:\n",
    "    # if we can't load a trained model for a demo, let's use a lazy deterministic model\n",
    "    model = DetModel(1)\n",
    "    print('Loaded a deterministic model. Beware, it does not handle dephasing!')"
   ]
  },
  {
   "cell_type": "code",
   "execution_count": null,
   "id": "c2e95356",
   "metadata": {
    "scrolled": false
   },
   "outputs": [],
   "source": [
    "s = Interface(model)\n",
    "s.show()"
   ]
  },
  {
   "cell_type": "code",
   "execution_count": null,
   "id": "1601bbb0",
   "metadata": {},
   "outputs": [],
   "source": []
  }
 ],
 "metadata": {
  "kernelspec": {
   "display_name": "Python 3 (ipykernel)",
   "language": "python",
   "name": "python3"
  },
  "language_info": {
   "codemirror_mode": {
    "name": "ipython",
    "version": 3
   },
   "file_extension": ".py",
   "mimetype": "text/x-python",
   "name": "python",
   "nbconvert_exporter": "python",
   "pygments_lexer": "ipython3",
   "version": "3.8.10"
  }
 },
 "nbformat": 4,
 "nbformat_minor": 5
}
